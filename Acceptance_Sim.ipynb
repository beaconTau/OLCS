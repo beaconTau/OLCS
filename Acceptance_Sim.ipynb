{
 "cells": [
  {
   "cell_type": "code",
   "execution_count": 2,
   "metadata": {},
   "outputs": [
    {
     "ename": "SyntaxError",
     "evalue": "unexpected EOF while parsing (detector_array.py, line 57)",
     "output_type": "error",
     "traceback": [
      "Traceback \u001b[0;36m(most recent call last)\u001b[0m:\n",
      "  File \u001b[1;32m\"/opt/anaconda3/lib/python3.7/site-packages/IPython/core/interactiveshell.py\"\u001b[0m, line \u001b[1;32m3331\u001b[0m, in \u001b[1;35mrun_code\u001b[0m\n    exec(code_obj, self.user_global_ns, self.user_ns)\n",
      "  File \u001b[1;32m\"<ipython-input-2-471460d0f065>\"\u001b[0m, line \u001b[1;32m3\u001b[0m, in \u001b[1;35m<module>\u001b[0m\n    from acceptance import acceptance_sim\n",
      "\u001b[0;36m  File \u001b[0;32m\"/Users/wissels/beacon/beaconCRs/acceptance.py\"\u001b[0;36m, line \u001b[0;32m16\u001b[0;36m, in \u001b[0;35m<module>\u001b[0;36m\u001b[0m\n\u001b[0;31m    from detector_array import Detector_Array\u001b[0m\n",
      "\u001b[0;36m  File \u001b[0;32m\"/Users/wissels/beacon/beaconCRs/detector_array.py\"\u001b[0;36m, line \u001b[0;32m57\u001b[0m\n\u001b[0;31m    \u001b[0m\n\u001b[0m    ^\u001b[0m\n\u001b[0;31mSyntaxError\u001b[0m\u001b[0;31m:\u001b[0m unexpected EOF while parsing\n"
     ]
    }
   ],
   "source": [
    "#%matplotlib inline\n",
    "from pylab import *\n",
    "from acceptance import acceptance_sim\n",
    "\n",
    "# Assume a maximum altitude of the UHECR of 10 km and a 10 degree view angle cutoff, \n",
    "# so for a given zenith angle th_z, the radius of the area to be considered is 10 km * (tan(thz+10 deg) - tan(10 deg))\n",
    "\n",
    "thz = np.arange(0., 85., 2.5)\n",
    "\n",
    "rad = 10.*(np.tan((thz+9.9)*np.pi/180.) - np.tan(thz*np.pi/180.))\n",
    "for k in range(0,len(thz)):\n",
    "    th_val = thz[k] + 2.5\n",
    "    dA_0 = 2. * np.pi * np.sin(th_val*np.pi/180.) * np.cos(th_val*np.pi/180.) * np.pi * rad[k]**2\n",
    "    print('%1.1f\\t%1.1f\\t%1.1f'%(thz[k], rad[k], dA_0))\n"
   ]
  },
  {
   "cell_type": "code",
   "execution_count": null,
   "metadata": {},
   "outputs": [],
   "source": [
    "rcParams['font.size'] = 16\n",
    "# 10^17 eV\n",
    "th_z     = np.array([0.,   2.5,  5.0,  7.5,  10.,  12.5, 15.,  20.,  30.,  40., 50., 52.5, 53., 54., 54.5, 55., 60.])\n",
    "rad      = np.array([1.7,  1.8,  1.8,  1.8,  1.9,  1.9,  2.0,  2.1,  2.6,  3.5, 5.3, 6.1, 7.1, 7.1, 7.1, 7.1, 10.])\n",
    "eff_1e4  = np.array([210., 196., 182., 191., 181., 185., 168., 173., 102., 65., 61., 49., 36., 34., 32., 0.,  0.])\n",
    "\n",
    "dA_0 = 2. * np.pi * np.cos(th_z*np.pi/180.) * np.pi * rad**2\n",
    "\n",
    "#plot(th_z, dA_0)\n",
    "figure(1)\n",
    "plot(np.cos(th_z*pi/180.), dA_0*eff_1e4*1.e-4, '.-')\n",
    "ylabel(r'$d<A\\Omega>/d\\cos\\theta$, km$^2$ sr')\n",
    "xlabel(r'$\\cos(\\theta_z)$, deg')\n",
    "figure(2)\n",
    "plot(th_z, np.sin(th_z*np.pi/180.)*dA_0*eff_1e4*1.e-4, '.-')\n",
    "xlabel(r'$\\theta_z$, deg')\n",
    "ylabel(r'$d<A\\Omega>/d\\theta$, km$^2$ sr deg$^{-1}$')\n",
    "\n",
    "figure(3)\n"
   ]
  },
  {
   "cell_type": "code",
   "execution_count": null,
   "metadata": {
    "scrolled": false
   },
   "outputs": [],
   "source": [
    "# Voltage SNR of 10 matches\n",
    "# Need to get right filter response in there.\n",
    "# Overestimating SNR\n",
    "detector_mode = 'prototype_2018'\n",
    "e_array = np.arange(16.5, 19.0, 0.1)\n",
    "acc = np.zeros(len(e_array))\n",
    "cc=-1\n",
    "thz_list_of_arrays = []\n",
    "xmax_list_of_arrays = []\n",
    "view_ang_list_of_arrays = []\n",
    "for en in e_array:\n",
    "    cc+=1\n",
    "    rad = (10**(en-17.))**0.4\n",
    "    A_0 = np.pi**2 * rad**2\n",
    "    eff, thz_array, xmax_array, view_array = acceptance_sim(radius_km = rad,\n",
    "                         num_particles = 10000,\n",
    "                         zenith_angle_deg = None,\n",
    "                         log10_energy = en,\n",
    "                         SNR_thresh = 5,\n",
    "                         N_trig = 4,\n",
    "                         trig_pol = 'hpol',\n",
    "                         detector_altitude_km = 3.87553,\n",
    "                         detector_mode = detector_mode\n",
    "                        )\n",
    "\n",
    "    acc[cc] = eff*A_0\n",
    "    thz_list_of_arrays.append(thz_array)\n",
    "    xmax_list_of_arrays.append(xmax_array)\n",
    "    view_ang_list_of_arrays.append(view_array)\n",
    "    print('%1.1f %1.1f, %1.2e %1.2e %1.2e %1.2e'%(en, rad, eff, A_0, eff*A_0, acc[cc]))"
   ]
  },
  {
   "cell_type": "code",
   "execution_count": null,
   "metadata": {},
   "outputs": [],
   "source": [
    "print(acc.shape)\n",
    "print(e_array)\n",
    "semilogy(e_array, 0.75*acc, lw=2)\n",
    "xticks(np.arange(16.5, 19.1, 0.5))\n",
    "xlabel('$\\log_{10}(E/\\mathrm{eV})$')\n",
    "ylabel('Acceptance, km$^2$ sr')\n",
    "grid(True, which='both', alpha=0.5)\n",
    "xlim(16.5, 19)\n",
    "y1, y2 = ylim()\n",
    "y1 = 0.01\n",
    "print(np.floor(np.log10(np.min(acc[acc>0.]))))\n",
    "#ylim(10.**np.floor(np.log10(np.min(acc[acc>0.]))), y2)\n",
    "#ylim(y1,y2)\n",
    "tight_layout()\n",
    "savefig('Acceptance_%s.pdf'%detector_mode, bbox_inches='tight')"
   ]
  },
  {
   "cell_type": "code",
   "execution_count": null,
   "metadata": {},
   "outputs": [],
   "source": [
    "def flux(energy_array_eV):\n",
    "    # parameterization from Auger ICRC 2017\n",
    "    J0 = 2.7513872e-19 # km^-2 sr^-1 yr^-1 eV^-1\n",
    "    E_ankle = 5.08e18  # eV\n",
    "    E_s = 3.9e19       # eV\n",
    "    gam_1 = 3.293\n",
    "    gam_2 = 2.53\n",
    "    dgam  = 2.5\n",
    "    flux = np.ones(len(energy_array_eV))\n",
    "    cut_1 = energy_array_eV<=E_ankle\n",
    "    cut_2 = energy_array_eV>E_ankle\n",
    "\n",
    "    flux[cut_1]=J0*(energy_array_eV[cut_1]/E_ankle)**-gam_1\n",
    "    flux[cut_2]=J0*(energy_array_eV[cut_2]/E_ankle)**-gam_2 * (1.+(E_ankle/E_s)**dgam)/((1.+(energy_array_eV[cut_2]/E_s)**dgam))\n",
    "    return flux\n",
    "\n",
    "#print(10**e_array)\n",
    "flx = flux(10**e_array)\n",
    "\n",
    "semilogy(e_array, flx*10**e_array)\n",
    "T_live = 24./(365.25*24.)\n",
    "\n",
    "figure()\n",
    "plot(e_array, flx * 10**e_array * acc * np.log(10.)*0.1 * T_live, drawstyle='steps')\n",
    "\n",
    "xlabel('$\\log_{10}(E/\\mathrm{eV})$')\n",
    "ylabel('Num. Events / day / bin')\n",
    "grid(True, which='both', alpha=0.5)\n",
    "xlim(16.5, 18.5)\n",
    "y1, y2 = ylim()\n",
    "ylim(0., y2)\n",
    "tight_layout()\n",
    "savefig('Energy_Distrib_%s.pdf'%detector_mode, bbox_inches='tight')\n",
    "\n",
    "d_log_10_E = 0.1\n",
    "figure()\n",
    "semilogy(e_array, ( np.sum(flx * 10**e_array * acc) - np.cumsum(flx * 10**e_array * acc) )*np.log(10.)* d_log_10_E * T_live, drawstyle='steps')\n",
    "\n",
    "print(max(np.cumsum(flx * 10**e_array * acc)*np.log(10.)* d_log_10_E * T_live))\n",
    "print(sum(flx * 10**e_array * acc * np.log(10.)*0.1 * T_live))"
   ]
  },
  {
   "cell_type": "code",
   "execution_count": 3,
   "metadata": {},
   "outputs": [
    {
     "ename": "NameError",
     "evalue": "name 'xmax_list_of_arrays' is not defined",
     "output_type": "error",
     "traceback": [
      "\u001b[0;31m---------------------------------------------------------------------------\u001b[0m",
      "\u001b[0;31mNameError\u001b[0m                                 Traceback (most recent call last)",
      "\u001b[0;32m<ipython-input-3-01af0fd48176>\u001b[0m in \u001b[0;36m<module>\u001b[0;34m\u001b[0m\n\u001b[0;32m----> 1\u001b[0;31m \u001b[0mwh\u001b[0m\u001b[0;34m,\u001b[0m \u001b[0mb\u001b[0m \u001b[0;34m=\u001b[0m \u001b[0mnp\u001b[0m\u001b[0;34m.\u001b[0m\u001b[0mhistogram\u001b[0m\u001b[0;34m(\u001b[0m\u001b[0mxmax_list_of_arrays\u001b[0m\u001b[0;34m[\u001b[0m\u001b[0;36m0\u001b[0m\u001b[0;34m]\u001b[0m\u001b[0;34m,\u001b[0m \u001b[0mbins\u001b[0m \u001b[0;34m=\u001b[0m \u001b[0mnp\u001b[0m\u001b[0;34m.\u001b[0m\u001b[0marange\u001b[0m\u001b[0;34m(\u001b[0m\u001b[0;36m0.\u001b[0m\u001b[0;34m,\u001b[0m \u001b[0;36m10.\u001b[0m\u001b[0;34m,\u001b[0m \u001b[0;36m0.05\u001b[0m\u001b[0;34m)\u001b[0m\u001b[0;34m)\u001b[0m\u001b[0;34m\u001b[0m\u001b[0;34m\u001b[0m\u001b[0m\n\u001b[0m\u001b[1;32m      2\u001b[0m \u001b[0mwh\u001b[0m \u001b[0;34m=\u001b[0m \u001b[0mwh\u001b[0m\u001b[0;34m*\u001b[0m\u001b[0;36m0.\u001b[0m\u001b[0;34m\u001b[0m\u001b[0;34m\u001b[0m\u001b[0m\n\u001b[1;32m      3\u001b[0m \u001b[0mcc\u001b[0m\u001b[0;34m=\u001b[0m\u001b[0;36m0\u001b[0m\u001b[0;34m\u001b[0m\u001b[0;34m\u001b[0m\u001b[0m\n\u001b[1;32m      4\u001b[0m \u001b[0;32mfor\u001b[0m \u001b[0mk\u001b[0m \u001b[0;32min\u001b[0m \u001b[0mrange\u001b[0m\u001b[0;34m(\u001b[0m\u001b[0;36m20\u001b[0m\u001b[0;34m)\u001b[0m\u001b[0;34m:\u001b[0m\u001b[0;34m\u001b[0m\u001b[0;34m\u001b[0m\u001b[0m\n\u001b[1;32m      5\u001b[0m     \u001b[0mweight\u001b[0m \u001b[0;34m=\u001b[0m \u001b[0mflx\u001b[0m\u001b[0;34m[\u001b[0m\u001b[0mk\u001b[0m\u001b[0;34m]\u001b[0m \u001b[0;34m*\u001b[0m \u001b[0;36m10\u001b[0m\u001b[0;34m**\u001b[0m\u001b[0me_array\u001b[0m\u001b[0;34m[\u001b[0m\u001b[0mk\u001b[0m\u001b[0;34m]\u001b[0m \u001b[0;34m*\u001b[0m \u001b[0macc\u001b[0m\u001b[0;34m[\u001b[0m\u001b[0mk\u001b[0m\u001b[0;34m]\u001b[0m \u001b[0;34m*\u001b[0m \u001b[0mnp\u001b[0m\u001b[0;34m.\u001b[0m\u001b[0mlog\u001b[0m\u001b[0;34m(\u001b[0m\u001b[0;36m10.\u001b[0m\u001b[0;34m)\u001b[0m\u001b[0;34m*\u001b[0m\u001b[0;36m0.1\u001b[0m \u001b[0;34m*\u001b[0m \u001b[0mT_live\u001b[0m\u001b[0;34m\u001b[0m\u001b[0;34m\u001b[0m\u001b[0m\n",
      "\u001b[0;31mNameError\u001b[0m: name 'xmax_list_of_arrays' is not defined"
     ]
    }
   ],
   "source": [
    "wh, b = np.histogram(xmax_list_of_arrays[0], bins = np.arange(0., 10., 0.05))\n",
    "wh = wh*0.\n",
    "cc=0\n",
    "for k in range(20):\n",
    "    weight = flx[k] * 10**e_array[k] * acc[k] * np.log(10.)*0.1 * T_live\n",
    "    h, b = np.histogram(xmax_list_of_arrays[k], bins = np.arange(0., 10., 0.05))\n",
    "    wh += h*weight\n",
    "    plot(b[1:], h*weight, lw = (cc+1)*0.2, label=\"%2.1f\"%e_array[k])\n",
    "    #print(e_array[k])\n",
    "    cc+=1\n",
    "legend(loc=[1.1,0.], fontsize=8)\n",
    "figure()\n",
    "plot(b[1:], wh/np.sum(wh), drawstyle='steps')\n",
    "y1, y2 = ylim()\n",
    "ylim(0., y2)\n",
    "xlim(0.,10)\n",
    "xticks(np.arange(0.,10.,2))\n",
    "grid(True, which='both')\n",
    "xlabel('Xmax altitude (km)')\n",
    "subplots_adjust(left=0.2, right=0.9, bottom=0.2)\n",
    "savefig('Xmax_altitude_distrib_%s.pdf'%detector_mode, bbox_inches='tight')"
   ]
  },
  {
   "cell_type": "code",
   "execution_count": 4,
   "metadata": {},
   "outputs": [
    {
     "ename": "NameError",
     "evalue": "name 'view_ang_list_of_arrays' is not defined",
     "output_type": "error",
     "traceback": [
      "\u001b[0;31m---------------------------------------------------------------------------\u001b[0m",
      "\u001b[0;31mNameError\u001b[0m                                 Traceback (most recent call last)",
      "\u001b[0;32m<ipython-input-4-e17b6c0325b4>\u001b[0m in \u001b[0;36m<module>\u001b[0;34m\u001b[0m\n\u001b[0;32m----> 1\u001b[0;31m \u001b[0mwh\u001b[0m\u001b[0;34m,\u001b[0m \u001b[0mb\u001b[0m \u001b[0;34m=\u001b[0m \u001b[0mnp\u001b[0m\u001b[0;34m.\u001b[0m\u001b[0mhistogram\u001b[0m\u001b[0;34m(\u001b[0m\u001b[0mview_ang_list_of_arrays\u001b[0m\u001b[0;34m[\u001b[0m\u001b[0;36m0\u001b[0m\u001b[0;34m]\u001b[0m\u001b[0;34m,\u001b[0m \u001b[0mbins\u001b[0m \u001b[0;34m=\u001b[0m \u001b[0mnp\u001b[0m\u001b[0;34m.\u001b[0m\u001b[0marange\u001b[0m\u001b[0;34m(\u001b[0m\u001b[0;36m0.\u001b[0m\u001b[0;34m,\u001b[0m \u001b[0;36m4.0\u001b[0m\u001b[0;34m,\u001b[0m \u001b[0;36m0.2\u001b[0m\u001b[0;34m)\u001b[0m\u001b[0;34m)\u001b[0m\u001b[0;34m\u001b[0m\u001b[0;34m\u001b[0m\u001b[0m\n\u001b[0m\u001b[1;32m      2\u001b[0m \u001b[0mwh\u001b[0m \u001b[0;34m=\u001b[0m \u001b[0mwh\u001b[0m\u001b[0;34m*\u001b[0m\u001b[0;36m0.\u001b[0m\u001b[0;34m\u001b[0m\u001b[0;34m\u001b[0m\u001b[0m\n\u001b[1;32m      3\u001b[0m \u001b[0mcc\u001b[0m\u001b[0;34m=\u001b[0m\u001b[0;36m0\u001b[0m\u001b[0;34m\u001b[0m\u001b[0;34m\u001b[0m\u001b[0m\n\u001b[1;32m      4\u001b[0m \u001b[0;32mfor\u001b[0m \u001b[0mk\u001b[0m \u001b[0;32min\u001b[0m \u001b[0mrange\u001b[0m\u001b[0;34m(\u001b[0m\u001b[0;36m20\u001b[0m\u001b[0;34m)\u001b[0m\u001b[0;34m:\u001b[0m\u001b[0;34m\u001b[0m\u001b[0;34m\u001b[0m\u001b[0m\n\u001b[1;32m      5\u001b[0m     \u001b[0mweight\u001b[0m \u001b[0;34m=\u001b[0m \u001b[0mflx\u001b[0m\u001b[0;34m[\u001b[0m\u001b[0mk\u001b[0m\u001b[0;34m]\u001b[0m \u001b[0;34m*\u001b[0m \u001b[0;36m10\u001b[0m\u001b[0;34m**\u001b[0m\u001b[0me_array\u001b[0m\u001b[0;34m[\u001b[0m\u001b[0mk\u001b[0m\u001b[0;34m]\u001b[0m \u001b[0;34m*\u001b[0m \u001b[0macc\u001b[0m\u001b[0;34m[\u001b[0m\u001b[0mk\u001b[0m\u001b[0;34m]\u001b[0m \u001b[0;34m*\u001b[0m \u001b[0mnp\u001b[0m\u001b[0;34m.\u001b[0m\u001b[0mlog\u001b[0m\u001b[0;34m(\u001b[0m\u001b[0;36m10.\u001b[0m\u001b[0;34m)\u001b[0m\u001b[0;34m*\u001b[0m\u001b[0;36m0.1\u001b[0m \u001b[0;34m*\u001b[0m \u001b[0mT_live\u001b[0m\u001b[0;34m\u001b[0m\u001b[0;34m\u001b[0m\u001b[0m\n",
      "\u001b[0;31mNameError\u001b[0m: name 'view_ang_list_of_arrays' is not defined"
     ]
    }
   ],
   "source": [
    "wh, b = np.histogram(view_ang_list_of_arrays[0], bins = np.arange(0., 4.0, 0.2))\n",
    "wh = wh*0.\n",
    "cc=0\n",
    "for k in range(20):\n",
    "    weight = flx[k] * 10**e_array[k] * acc[k] * np.log(10.)*0.1 * T_live\n",
    "    h, b = np.histogram(view_ang_list_of_arrays[k], bins = np.arange(0., 4.0, 0.2))\n",
    "    wh += h*weight\n",
    "    plot(b[1:], h*weight, lw = (cc+1)*0.2, label=\"%2.1f\"%e_array[k])\n",
    "    #print(e_array[k])\n",
    "    cc+=1\n",
    "legend(loc=[1.1,0.], fontsize=8)\n",
    "figure()\n",
    "plot(b[1:], wh/np.sum(wh), drawstyle='steps')\n",
    "y1, y2 = ylim()\n",
    "ylim(0., y2)\n",
    "xlim(0.,10)\n",
    "xticks(np.arange(0.,10.,2))\n",
    "grid(True, which='both')\n",
    "xlabel('View Angle (deg)')\n",
    "subplots_adjust(left=0.2, right=0.9, bottom=0.2)\n",
    "savefig('ViewAngle_distrib_%s.pdf'%detector_mode, bbox_inches='tight')"
   ]
  },
  {
   "cell_type": "code",
   "execution_count": 5,
   "metadata": {},
   "outputs": [
    {
     "ename": "NameError",
     "evalue": "name 'thz_list_of_arrays' is not defined",
     "output_type": "error",
     "traceback": [
      "\u001b[0;31m---------------------------------------------------------------------------\u001b[0m",
      "\u001b[0;31mNameError\u001b[0m                                 Traceback (most recent call last)",
      "\u001b[0;32m<ipython-input-5-be0b0c907d9f>\u001b[0m in \u001b[0;36m<module>\u001b[0;34m\u001b[0m\n\u001b[0;32m----> 1\u001b[0;31m \u001b[0mwh\u001b[0m\u001b[0;34m,\u001b[0m \u001b[0mb\u001b[0m \u001b[0;34m=\u001b[0m \u001b[0mnp\u001b[0m\u001b[0;34m.\u001b[0m\u001b[0mhistogram\u001b[0m\u001b[0;34m(\u001b[0m\u001b[0mthz_list_of_arrays\u001b[0m\u001b[0;34m[\u001b[0m\u001b[0;36m0\u001b[0m\u001b[0;34m]\u001b[0m\u001b[0;34m,\u001b[0m \u001b[0mbins\u001b[0m \u001b[0;34m=\u001b[0m \u001b[0mnp\u001b[0m\u001b[0;34m.\u001b[0m\u001b[0marange\u001b[0m\u001b[0;34m(\u001b[0m\u001b[0;34m-\u001b[0m\u001b[0;36m10.\u001b[0m\u001b[0;34m,\u001b[0m \u001b[0;36m91.\u001b[0m\u001b[0;34m,\u001b[0m \u001b[0;36m5.\u001b[0m\u001b[0;34m)\u001b[0m\u001b[0;34m)\u001b[0m\u001b[0;34m\u001b[0m\u001b[0;34m\u001b[0m\u001b[0m\n\u001b[0m\u001b[1;32m      2\u001b[0m \u001b[0mwh\u001b[0m \u001b[0;34m=\u001b[0m \u001b[0mwh\u001b[0m\u001b[0;34m*\u001b[0m\u001b[0;36m0.\u001b[0m\u001b[0;34m\u001b[0m\u001b[0;34m\u001b[0m\u001b[0m\n\u001b[1;32m      3\u001b[0m \u001b[0mcc\u001b[0m\u001b[0;34m=\u001b[0m\u001b[0;36m0\u001b[0m\u001b[0;34m\u001b[0m\u001b[0;34m\u001b[0m\u001b[0m\n\u001b[1;32m      4\u001b[0m \u001b[0;32mfor\u001b[0m \u001b[0mk\u001b[0m \u001b[0;32min\u001b[0m \u001b[0mrange\u001b[0m\u001b[0;34m(\u001b[0m\u001b[0mlen\u001b[0m\u001b[0;34m(\u001b[0m\u001b[0mthz_list_of_arrays\u001b[0m\u001b[0;34m)\u001b[0m\u001b[0;34m)\u001b[0m\u001b[0;34m:\u001b[0m\u001b[0;34m\u001b[0m\u001b[0;34m\u001b[0m\u001b[0m\n\u001b[1;32m      5\u001b[0m     \u001b[0mweight\u001b[0m \u001b[0;34m=\u001b[0m \u001b[0mflx\u001b[0m\u001b[0;34m[\u001b[0m\u001b[0mk\u001b[0m\u001b[0;34m]\u001b[0m \u001b[0;34m*\u001b[0m \u001b[0;36m10\u001b[0m\u001b[0;34m**\u001b[0m\u001b[0me_array\u001b[0m\u001b[0;34m[\u001b[0m\u001b[0mk\u001b[0m\u001b[0;34m]\u001b[0m \u001b[0;34m*\u001b[0m \u001b[0macc\u001b[0m\u001b[0;34m[\u001b[0m\u001b[0mk\u001b[0m\u001b[0;34m]\u001b[0m \u001b[0;34m*\u001b[0m \u001b[0mnp\u001b[0m\u001b[0;34m.\u001b[0m\u001b[0mlog\u001b[0m\u001b[0;34m(\u001b[0m\u001b[0;36m10.\u001b[0m\u001b[0;34m)\u001b[0m\u001b[0;34m*\u001b[0m\u001b[0;36m0.1\u001b[0m \u001b[0;34m*\u001b[0m \u001b[0mT_live\u001b[0m\u001b[0;34m\u001b[0m\u001b[0;34m\u001b[0m\u001b[0m\n",
      "\u001b[0;31mNameError\u001b[0m: name 'thz_list_of_arrays' is not defined"
     ]
    }
   ],
   "source": [
    "wh, b = np.histogram(thz_list_of_arrays[0], bins = np.arange(-10., 91., 5.))\n",
    "wh = wh*0.\n",
    "cc=0\n",
    "for k in range(len(thz_list_of_arrays)):\n",
    "    weight = flx[k] * 10**e_array[k] * acc[k] * np.log(10.)*0.1 * T_live\n",
    "    h, b = np.histogram(thz_list_of_arrays[k], bins = np.arange(-10., 91., 5.))\n",
    "    wh += h*weight\n",
    "    plot(b[1:], h*weight, lw = (cc+1)*0.2, label=\"%2.1f\"%e_array[k])\n",
    "    #print(e_array[k])\n",
    "    cc+=1\n",
    "legend(loc=[1.1,0.], fontsize=8)\n",
    "figure()\n",
    "plot(b[1:], wh/np.sum(wh), drawstyle='steps')\n",
    "y1, y2 = ylim()\n",
    "ylim(0., y2)\n",
    "xlim(0.,90.)\n",
    "xticks(np.arange(0.,91.,10.))\n",
    "grid(True, which='both')\n",
    "xlabel('Zenith Angle, deg')\n",
    "subplots_adjust(left=0.2, right=0.9, bottom=0.2)\n",
    "savefig('Zenith_angle_distrib_%s.pdf'%detector_mode, bbox_inches='tight')"
   ]
  },
  {
   "cell_type": "code",
   "execution_count": 6,
   "metadata": {},
   "outputs": [
    {
     "ename": "NameError",
     "evalue": "name 'thz_list_of_arrays' is not defined",
     "output_type": "error",
     "traceback": [
      "\u001b[0;31m---------------------------------------------------------------------------\u001b[0m",
      "\u001b[0;31mNameError\u001b[0m                                 Traceback (most recent call last)",
      "\u001b[0;32m<ipython-input-6-480ea392ac44>\u001b[0m in \u001b[0;36m<module>\u001b[0;34m\u001b[0m\n\u001b[1;32m      1\u001b[0m \u001b[0;32mfor\u001b[0m \u001b[0mi\u001b[0m \u001b[0;32min\u001b[0m \u001b[0mrange\u001b[0m\u001b[0;34m(\u001b[0m\u001b[0;36m7\u001b[0m\u001b[0;34m,\u001b[0m\u001b[0;36m25\u001b[0m\u001b[0;34m,\u001b[0m\u001b[0;36m3\u001b[0m\u001b[0;34m)\u001b[0m\u001b[0;34m:\u001b[0m\u001b[0;34m\u001b[0m\u001b[0;34m\u001b[0m\u001b[0m\n\u001b[0;32m----> 2\u001b[0;31m     plt.plot( thz_list_of_arrays[i],xmax_list_of_arrays[i],'.', label=\"%2.1f\"%e_array[i],\n\u001b[0m\u001b[1;32m      3\u001b[0m                 marker='.',markersize=0.5*(i+3), alpha=3./(i))\n\u001b[1;32m      4\u001b[0m \u001b[0;34m\u001b[0m\u001b[0m\n\u001b[1;32m      5\u001b[0m     \u001b[0mcut1\u001b[0m \u001b[0;34m=\u001b[0m \u001b[0mnp\u001b[0m\u001b[0;34m.\u001b[0m\u001b[0mwhere\u001b[0m\u001b[0;34m(\u001b[0m\u001b[0mthz_list_of_arrays\u001b[0m\u001b[0;34m[\u001b[0m\u001b[0mi\u001b[0m\u001b[0;34m]\u001b[0m \u001b[0;34m>\u001b[0m \u001b[0;36m69.0\u001b[0m\u001b[0;34m)\u001b[0m\u001b[0;34m[\u001b[0m\u001b[0;36m0\u001b[0m\u001b[0;34m]\u001b[0m\u001b[0;34m\u001b[0m\u001b[0;34m\u001b[0m\u001b[0m\n",
      "\u001b[0;31mNameError\u001b[0m: name 'thz_list_of_arrays' is not defined"
     ]
    }
   ],
   "source": [
    "for i in range(7,25,3):\n",
    "    plt.plot( thz_list_of_arrays[i],xmax_list_of_arrays[i],'.', label=\"%2.1f\"%e_array[i],\n",
    "                marker='.',markersize=0.5*(i+3), alpha=3./(i))\n",
    "    \n",
    "    cut1 = np.where(thz_list_of_arrays[i] > 69.0)[0]\n",
    "    cut2 = np.where(thz_list_of_arrays[i] < 71.0)[0]\n",
    "    cut = np.logical_and(cut1,cut2)\n",
    "    print(e_array[i], xmax_list_of_arrays[i][cut])\n",
    "plt.legend(fontsize=12)\n",
    "plt.xlabel(\"Zenith Angle (deg)\")\n",
    "plt.ylabel(r\"$\\chi_{max}$ Altitude (km)\")"
   ]
  },
  {
   "cell_type": "code",
   "execution_count": 52,
   "metadata": {},
   "outputs": [
    {
     "data": {
      "text/plain": [
       "Text(0, 0.5, 'CDF')"
      ]
     },
     "execution_count": 52,
     "metadata": {},
     "output_type": "execute_result"
    },
    {
     "data": {
      "image/png": "[encoded data removed]",
      "text/plain": [
       "<Figure size 432x288 with 1 Axes>"
      ]
     },
     "metadata": {
      "needs_background": "light"
     },
     "output_type": "display_data"
    },
    {
     "data": {
      "image/png": "[encoded data removed]",
      "text/plain": [
       "<Figure size 432x288 with 1 Axes>"
      ]
     },
     "metadata": {
      "needs_background": "light"
     },
     "output_type": "display_data"
    }
   ],
   "source": [
    "figure()\n",
    "plot(b[1:], wh/np.sum(wh), 'k-', lw=3, drawstyle='steps', label='sim')\n",
    "y1, y2 = ylim()\n",
    "ylim(0., y2)\n",
    "xlim(0.,90.)\n",
    "xticks(np.arange(0.,91.,10.))\n",
    "grid(True, which='both', alpha=0.5)\n",
    "xlabel('Zenith Angle, deg')\n",
    "ylabel('Freq. of occurence per bin')\n",
    "subplots_adjust(left=0.2, right=0.9, bottom=0.2)\n",
    "savefig('zen_angle_distrib_%s.pdf'%detector_mode, bbox_inches='tight')\n",
    "\n",
    "#CR_vals = 90.-np.array([61.67, 47.93, 40.26, 63.76, 42.43, 63.21, 40.03, 44.30, 54.86, 48.83])\n",
    "#NC_vals = 90. - np.array([20.2, 33.8])\n",
    "\n",
    "#CR_vals = np.array([28., 41., 49., 26., 48., 26., 49., 45., 35., 41.])\n",
    "#NC_vals = np.array([55., 68.])\n",
    "\n",
    "#bar(CR_vals, 0.12*np.ones(len(CR_vals)), align='center', color='green', alpha=1.0,  label='CR')\n",
    "#bar(NC_vals, 0.12*np.ones(len(NC_vals)), align='center', color='orange', alpha=1.0, label='NC')\n",
    "legend()\n",
    "\n",
    "#measured_vals = np.concatenate([CR_vals, NC_vals])\n",
    "\n",
    "'''%%%%%%%%%%%%%%%%%%%%%%%%%%%%%%%%%%%%%%%%%%%%%%%%%%%%%%%%%%%%'''\n",
    "\n",
    "figure()\n",
    "#u = (np.cumsum(np.ones(len(CR_vals)))-1)/float(len(CR_vals)-1)\n",
    "#plot(np.sort(CR_vals),u, 'gx-')\n",
    "\n",
    "#u = (np.cumsum(np.ones(len(measured_vals)))-1)/float(len(measured_vals)-1)\n",
    "#plot(np.sort(measured_vals),u, 'o-', color='orange', lw=3)\n",
    "\n",
    "plot(b[1:], np.cumsum(wh/np.sum(wh)), 'k-', drawstyle='steps', lw=2)\n",
    "ylim(0., 1.)\n",
    "xlim(0.,90.)\n",
    "xticks(np.arange(0.,91.,10.))\n",
    "grid(True, which='both')\n",
    "xlabel('Zenith Angle, deg')\n",
    "ylabel('CDF')\n",
    "\n",
    "#from scipy import stats\n",
    "#tats.ks_2samp(CR_vals, rvs4)"
   ]
  },
  {
   "cell_type": "code",
   "execution_count": 53,
   "metadata": {},
   "outputs": [],
   "source": [
    "# Voltage SNR of 10 matches\n",
    "# Need to get right filter response in there.\n",
    "# Overestimating SNR\n",
    "def acceptance(num_particles, SNR_thresh, N_trig, detector_mode='prototype_2019'):\n",
    "    e_array = np.arange(17.0, 19.0, 0.1)\n",
    "    acc = np.zeros(len(e_array))\n",
    "    cc=-1\n",
    "    thz_list_of_arrays = []\n",
    "    for en in e_array:\n",
    "        cc+=1\n",
    "        rad = (10**(en-17.))**0.4\n",
    "        A_0 = np.pi**2 * rad**2\n",
    "        eff, thz_array, xmax_array, view_array = acceptance_sim(radius_km = rad,\n",
    "                             num_particles = num_particles,\n",
    "                             zenith_angle_deg = None,\n",
    "                             log10_energy = en,\n",
    "                             SNR_thresh = SNR_thresh,\n",
    "                             N_trig = N_trig,\n",
    "                             trig_pol = 'hpol',\n",
    "                             detector_altitude_km = 3.87553,\n",
    "                             detector_mode = 'prototype_2019'\n",
    "                            )\n",
    "        acc[cc] = eff*A_0\n",
    "        print('%1.1f %1.1f, %1.2e %1.2e %1.2e %1.2e'%(en, rad, eff, A_0, eff*A_0, acc[cc]))\n",
    "    return en, rad, eff, A_0, acc"
   ]
  },
  {
   "cell_type": "code",
   "execution_count": 54,
   "metadata": {},
   "outputs": [
    {
     "name": "stdout",
     "output_type": "stream",
     "text": [
      "17.0 1.0, 0.00e+00 9.87e+00 0.00e+00 0.00e+00\n",
      "17.1 1.1, 0.00e+00 1.19e+01 0.00e+00 0.00e+00\n",
      "17.2 1.2, 1.00e-04 1.43e+01 1.43e-03 1.43e-03\n",
      "17.3 1.3, 3.60e-03 1.72e+01 6.17e-02 6.17e-02\n",
      "17.4 1.4, 8.30e-03 2.06e+01 1.71e-01 1.71e-01\n",
      "17.5 1.6, 1.29e-02 2.48e+01 3.20e-01 3.20e-01\n",
      "17.6 1.7, 1.47e-02 2.98e+01 4.38e-01 4.38e-01\n",
      "17.7 1.9, 1.74e-02 3.58e+01 6.24e-01 6.24e-01\n",
      "17.8 2.1, 1.95e-02 4.31e+01 8.40e-01 8.40e-01\n",
      "17.9 2.3, 1.73e-02 5.18e+01 8.96e-01 8.96e-01\n",
      "18.0 2.5, 1.85e-02 6.23e+01 1.15e+00 1.15e+00\n",
      "18.1 2.8, 1.81e-02 7.49e+01 1.36e+00 1.36e+00\n",
      "18.2 3.0, 1.58e-02 9.00e+01 1.42e+00 1.42e+00\n",
      "18.3 3.3, 1.23e-02 1.08e+02 1.33e+00 1.33e+00\n",
      "18.4 3.6, 1.21e-02 1.30e+02 1.57e+00 1.57e+00\n",
      "18.5 4.0, 1.24e-02 1.56e+02 1.94e+00 1.94e+00\n",
      "18.6 4.4, 9.10e-03 1.88e+02 1.71e+00 1.71e+00\n",
      "18.7 4.8, 1.13e-02 2.26e+02 2.55e+00 2.55e+00\n",
      "18.8 5.2, 7.70e-03 2.72e+02 2.09e+00 2.09e+00\n",
      "18.9 5.8, 7.00e-03 3.27e+02 2.29e+00 2.29e+00\n",
      "17.0 1.0, 0.00e+00 9.87e+00 0.00e+00 0.00e+00\n",
      "17.1 1.1, 0.00e+00 1.19e+01 0.00e+00 0.00e+00\n",
      "17.2 1.2, 0.00e+00 1.43e+01 0.00e+00 0.00e+00\n",
      "17.3 1.3, 3.00e-04 1.72e+01 5.15e-03 5.15e-03\n",
      "17.4 1.4, 4.10e-03 2.06e+01 8.45e-02 8.45e-02\n",
      "17.5 1.6, 9.10e-03 2.48e+01 2.26e-01 2.26e-01\n",
      "17.6 1.7, 1.31e-02 2.98e+01 3.90e-01 3.90e-01\n",
      "17.7 1.9, 1.43e-02 3.58e+01 5.12e-01 5.12e-01\n",
      "17.8 2.1, 1.55e-02 4.31e+01 6.68e-01 6.68e-01\n",
      "17.9 2.3, 1.50e-02 5.18e+01 7.77e-01 7.77e-01\n",
      "18.0 2.5, 1.80e-02 6.23e+01 1.12e+00 1.12e+00\n",
      "18.1 2.8, 1.34e-02 7.49e+01 1.00e+00 1.00e+00\n",
      "18.2 3.0, 1.48e-02 9.00e+01 1.33e+00 1.33e+00\n",
      "18.3 3.3, 1.43e-02 1.08e+02 1.55e+00 1.55e+00\n",
      "18.4 3.6, 1.31e-02 1.30e+02 1.70e+00 1.70e+00\n",
      "18.5 4.0, 1.06e-02 1.56e+02 1.66e+00 1.66e+00\n",
      "18.6 4.4, 9.50e-03 1.88e+02 1.79e+00 1.79e+00\n",
      "18.7 4.8, 8.80e-03 2.26e+02 1.99e+00 1.99e+00\n",
      "18.8 5.2, 7.80e-03 2.72e+02 2.12e+00 2.12e+00\n",
      "18.9 5.8, 6.70e-03 3.27e+02 2.19e+00 2.19e+00\n",
      "17.0 1.0, 0.00e+00 9.87e+00 0.00e+00 0.00e+00\n",
      "17.1 1.1, 0.00e+00 1.19e+01 0.00e+00 0.00e+00\n",
      "17.2 1.2, 0.00e+00 1.43e+01 0.00e+00 0.00e+00\n",
      "17.3 1.3, 0.00e+00 1.72e+01 0.00e+00 0.00e+00\n",
      "17.4 1.4, 1.40e-03 2.06e+01 2.89e-02 2.89e-02\n",
      "17.5 1.6, 5.00e-03 2.48e+01 1.24e-01 1.24e-01\n",
      "17.6 1.7, 8.80e-03 2.98e+01 2.62e-01 2.62e-01\n",
      "17.7 1.9, 1.16e-02 3.58e+01 4.16e-01 4.16e-01\n",
      "17.8 2.1, 1.09e-02 4.31e+01 4.70e-01 4.70e-01\n",
      "17.9 2.3, 1.23e-02 5.18e+01 6.37e-01 6.37e-01\n",
      "18.0 2.5, 1.44e-02 6.23e+01 8.97e-01 8.97e-01\n",
      "18.1 2.8, 1.42e-02 7.49e+01 1.06e+00 1.06e+00\n",
      "18.2 3.0, 1.12e-02 9.00e+01 1.01e+00 1.01e+00\n",
      "18.3 3.3, 1.03e-02 1.08e+02 1.11e+00 1.11e+00\n",
      "18.4 3.6, 1.11e-02 1.30e+02 1.44e+00 1.44e+00\n",
      "18.5 4.0, 1.01e-02 1.56e+02 1.58e+00 1.58e+00\n",
      "18.6 4.4, 1.03e-02 1.88e+02 1.94e+00 1.94e+00\n",
      "18.7 4.8, 7.20e-03 2.26e+02 1.63e+00 1.63e+00\n",
      "18.8 5.2, 8.80e-03 2.72e+02 2.39e+00 2.39e+00\n",
      "18.9 5.8, 6.10e-03 3.27e+02 1.99e+00 1.99e+00\n",
      "17.0 1.0, 0.00e+00 9.87e+00 0.00e+00 0.00e+00\n",
      "17.1 1.1, 0.00e+00 1.19e+01 0.00e+00 0.00e+00\n",
      "17.2 1.2, 0.00e+00 1.43e+01 0.00e+00 0.00e+00\n",
      "17.3 1.3, 0.00e+00 1.72e+01 0.00e+00 0.00e+00\n",
      "17.4 1.4, 2.00e-04 2.06e+01 4.12e-03 4.12e-03\n",
      "17.5 1.6, 2.20e-03 2.48e+01 5.45e-02 5.45e-02\n",
      "17.6 1.7, 4.60e-03 2.98e+01 1.37e-01 1.37e-01\n",
      "17.7 1.9, 7.10e-03 3.58e+01 2.54e-01 2.54e-01\n",
      "17.8 2.1, 1.17e-02 4.31e+01 5.04e-01 5.04e-01\n",
      "17.9 2.3, 1.12e-02 5.18e+01 5.80e-01 5.80e-01\n",
      "18.0 2.5, 1.17e-02 6.23e+01 7.29e-01 7.29e-01\n",
      "18.1 2.8, 1.12e-02 7.49e+01 8.39e-01 8.39e-01\n",
      "18.2 3.0, 1.22e-02 9.00e+01 1.10e+00 1.10e+00\n",
      "18.3 3.3, 1.22e-02 1.08e+02 1.32e+00 1.32e+00\n",
      "18.4 3.6, 9.50e-03 1.30e+02 1.24e+00 1.24e+00\n",
      "18.5 4.0, 7.90e-03 1.56e+02 1.24e+00 1.24e+00\n",
      "18.6 4.4, 8.20e-03 1.88e+02 1.54e+00 1.54e+00\n",
      "18.7 4.8, 6.80e-03 2.26e+02 1.54e+00 1.54e+00\n",
      "18.8 5.2, 6.10e-03 2.72e+02 1.66e+00 1.66e+00\n",
      "18.9 5.8, 5.20e-03 3.27e+02 1.70e+00 1.70e+00\n",
      "17.0 1.0, 0.00e+00 9.87e+00 0.00e+00 0.00e+00\n",
      "17.1 1.1, 0.00e+00 1.19e+01 0.00e+00 0.00e+00\n",
      "17.2 1.2, 0.00e+00 1.43e+01 0.00e+00 0.00e+00\n",
      "17.3 1.3, 0.00e+00 1.72e+01 0.00e+00 0.00e+00\n",
      "17.4 1.4, 0.00e+00 2.06e+01 0.00e+00 0.00e+00\n",
      "17.5 1.6, 1.00e-03 2.48e+01 2.48e-02 2.48e-02\n",
      "17.6 1.7, 2.80e-03 2.98e+01 8.35e-02 8.35e-02\n",
      "17.7 1.9, 5.90e-03 3.58e+01 2.11e-01 2.11e-01\n",
      "17.8 2.1, 8.70e-03 4.31e+01 3.75e-01 3.75e-01\n",
      "17.9 2.3, 9.60e-03 5.18e+01 4.97e-01 4.97e-01\n",
      "18.0 2.5, 9.90e-03 6.23e+01 6.17e-01 6.17e-01\n",
      "18.1 2.8, 1.16e-02 7.49e+01 8.68e-01 8.68e-01\n",
      "18.2 3.0, 1.09e-02 9.00e+01 9.81e-01 9.81e-01\n",
      "18.3 3.3, 1.11e-02 1.08e+02 1.20e+00 1.20e+00\n",
      "18.4 3.6, 1.04e-02 1.30e+02 1.35e+00 1.35e+00\n",
      "18.5 4.0, 8.80e-03 1.56e+02 1.38e+00 1.38e+00\n",
      "18.6 4.4, 8.60e-03 1.88e+02 1.62e+00 1.62e+00\n",
      "18.7 4.8, 8.40e-03 2.26e+02 1.90e+00 1.90e+00\n",
      "18.8 5.2, 6.30e-03 2.72e+02 1.71e+00 1.71e+00\n",
      "18.9 5.8, 6.20e-03 3.27e+02 2.03e+00 2.03e+00\n",
      "17.0 1.0, 0.00e+00 9.87e+00 0.00e+00 0.00e+00\n",
      "17.1 1.1, 0.00e+00 1.19e+01 0.00e+00 0.00e+00\n",
      "17.2 1.2, 0.00e+00 1.43e+01 0.00e+00 0.00e+00\n",
      "17.3 1.3, 0.00e+00 1.72e+01 0.00e+00 0.00e+00\n",
      "17.4 1.4, 0.00e+00 2.06e+01 0.00e+00 0.00e+00\n",
      "17.5 1.6, 1.00e-04 2.48e+01 2.48e-03 2.48e-03\n",
      "17.6 1.7, 1.00e-03 2.98e+01 2.98e-02 2.98e-02\n",
      "17.7 1.9, 4.40e-03 3.58e+01 1.58e-01 1.58e-01\n",
      "17.8 2.1, 6.40e-03 4.31e+01 2.76e-01 2.76e-01\n",
      "17.9 2.3, 9.00e-03 5.18e+01 4.66e-01 4.66e-01\n",
      "18.0 2.5, 1.00e-02 6.23e+01 6.23e-01 6.23e-01\n",
      "18.1 2.8, 1.14e-02 7.49e+01 8.54e-01 8.54e-01\n",
      "18.2 3.0, 1.11e-02 9.00e+01 9.99e-01 9.99e-01\n",
      "18.3 3.3, 1.06e-02 1.08e+02 1.15e+00 1.15e+00\n",
      "18.4 3.6, 1.14e-02 1.30e+02 1.48e+00 1.48e+00\n",
      "18.5 4.0, 9.10e-03 1.56e+02 1.42e+00 1.42e+00\n",
      "18.6 4.4, 8.50e-03 1.88e+02 1.60e+00 1.60e+00\n",
      "18.7 4.8, 7.10e-03 2.26e+02 1.61e+00 1.61e+00\n",
      "18.8 5.2, 8.20e-03 2.72e+02 2.23e+00 2.23e+00\n",
      "18.9 5.8, 5.60e-03 3.27e+02 1.83e+00 1.83e+00\n",
      "17.0 1.0, 0.00e+00 9.87e+00 0.00e+00 0.00e+00\n",
      "17.1 1.1, 0.00e+00 1.19e+01 0.00e+00 0.00e+00\n",
      "17.2 1.2, 0.00e+00 1.43e+01 0.00e+00 0.00e+00\n",
      "17.3 1.3, 0.00e+00 1.72e+01 0.00e+00 0.00e+00\n",
      "17.4 1.4, 0.00e+00 2.06e+01 0.00e+00 0.00e+00\n",
      "17.5 1.6, 0.00e+00 2.48e+01 0.00e+00 0.00e+00\n",
      "17.6 1.7, 4.00e-04 2.98e+01 1.19e-02 1.19e-02\n",
      "17.7 1.9, 3.30e-03 3.58e+01 1.18e-01 1.18e-01\n",
      "17.8 2.1, 4.90e-03 4.31e+01 2.11e-01 2.11e-01\n",
      "17.9 2.3, 8.40e-03 5.18e+01 4.35e-01 4.35e-01\n",
      "18.0 2.5, 9.30e-03 6.23e+01 5.79e-01 5.79e-01\n",
      "18.1 2.8, 8.50e-03 7.49e+01 6.36e-01 6.36e-01\n",
      "18.2 3.0, 1.08e-02 9.00e+01 9.72e-01 9.72e-01\n",
      "18.3 3.3, 7.50e-03 1.08e+02 8.12e-01 8.12e-01\n",
      "18.4 3.6, 9.50e-03 1.30e+02 1.24e+00 1.24e+00\n",
      "18.5 4.0, 8.90e-03 1.56e+02 1.39e+00 1.39e+00\n",
      "18.6 4.4, 6.20e-03 1.88e+02 1.17e+00 1.17e+00\n",
      "18.7 4.8, 7.80e-03 2.26e+02 1.76e+00 1.76e+00\n",
      "18.8 5.2, 5.40e-03 2.72e+02 1.47e+00 1.47e+00\n",
      "18.9 5.8, 6.30e-03 3.27e+02 2.06e+00 2.06e+00\n"
     ]
    }
   ],
   "source": [
    "SNR_array = np.arange(5.0, 12, 1.0)\n",
    "list_acc = []\n",
    "for SNR_thresh in SNR_array:\n",
    "    en, rad, eff, A_0, acc = acceptance(10000, \n",
    "                                        SNR_thresh, \n",
    "                                        4, \n",
    "                                        detector_mode='prototype_2019')\n",
    "    list_acc.append(acc)"
   ]
  },
  {
   "cell_type": "code",
   "execution_count": 55,
   "metadata": {},
   "outputs": [
    {
     "name": "stderr",
     "output_type": "stream",
     "text": [
      "/opt/anaconda3/lib/python3.7/site-packages/ipykernel_launcher.py:27: UserWarning: Attempted to set non-positive bottom ylim on a log-scaled axis.\n",
      "Invalid limit will be ignored.\n",
      "/opt/anaconda3/lib/python3.7/site-packages/ipykernel_launcher.py:27: UserWarning: Attempted to set non-positive bottom ylim on a log-scaled axis.\n",
      "Invalid limit will be ignored.\n",
      "/opt/anaconda3/lib/python3.7/site-packages/ipykernel_launcher.py:27: UserWarning: Attempted to set non-positive bottom ylim on a log-scaled axis.\n",
      "Invalid limit will be ignored.\n",
      "/opt/anaconda3/lib/python3.7/site-packages/ipykernel_launcher.py:27: UserWarning: Attempted to set non-positive bottom ylim on a log-scaled axis.\n",
      "Invalid limit will be ignored.\n",
      "/opt/anaconda3/lib/python3.7/site-packages/ipykernel_launcher.py:27: UserWarning: Attempted to set non-positive bottom ylim on a log-scaled axis.\n",
      "Invalid limit will be ignored.\n",
      "/opt/anaconda3/lib/python3.7/site-packages/ipykernel_launcher.py:27: UserWarning: Attempted to set non-positive bottom ylim on a log-scaled axis.\n",
      "Invalid limit will be ignored.\n"
     ]
    },
    {
     "data": {
      "image/png": "[encoded data removed]",
      "text/plain": [
       "<Figure size 432x288 with 1 Axes>"
      ]
     },
     "metadata": {
      "needs_background": "light"
     },
     "output_type": "display_data"
    },
    {
     "data": {
      "image/png": "[encoded data removed]",
      "text/plain": [
       "<Figure size 432x288 with 1 Axes>"
      ]
     },
     "metadata": {
      "needs_background": "light"
     },
     "output_type": "display_data"
    },
    {
     "data": {
      "image/png": "[encoded data removed]",
      "text/plain": [
       "<Figure size 432x288 with 1 Axes>"
      ]
     },
     "metadata": {
      "needs_background": "light"
     },
     "output_type": "display_data"
    }
   ],
   "source": [
    "e_array = np.arange(17.0, 19.0, 0.1)\n",
    "nevents_day_list = np.zeros(len(SNR_array))\n",
    "for i,SNR_thresh in enumerate(SNR_array):\n",
    "    figure(1)\n",
    "    semilogy(e_array, list_acc[i], label=SNR_thresh)\n",
    "    legend(title=\"SNR\", fontsize=12)\n",
    "\n",
    "figure(2)\n",
    "flx = flux(10**e_array)\n",
    "figure(3)\n",
    "for i,SNR_thresh in enumerate(SNR_array):\n",
    "    #print(10**e_array)\n",
    "\n",
    "\n",
    "    semilogy(e_array, flx*10**e_array)\n",
    "    T_live = 24./(365.25*24.)\n",
    "\n",
    "    figure(2)\n",
    "    plot(e_array, flx * 10**e_array * list_acc[i] * np.log(10.)*0.1 * T_live,\n",
    "         label=SNR_thresh,drawstyle='steps')\n",
    "\n",
    "    xlabel('$\\log_{10}(E/\\mathrm{eV})$')\n",
    "    ylabel('Num. Events / day / bin')\n",
    "    grid(True, which='both', alpha=0.5)\n",
    "    xlim(16.5, 18.5)\n",
    "    y1, y2 = ylim()\n",
    "    ylim(0., y2)\n",
    "    tight_layout()\n",
    "    legend(title='SNR', fontsize=12)\n",
    "    \n",
    "    nevents_day = np.sum(flx * 10**e_array * list_acc[i] * np.log(10.)*0.1 * T_live)\n",
    "    nevents_day_list[i] = nevents_day"
   ]
  },
  {
   "cell_type": "code",
   "execution_count": 56,
   "metadata": {},
   "outputs": [
    {
     "data": {
      "text/plain": [
       "Text(0, 0.5, 'Events per day')"
      ]
     },
     "execution_count": 56,
     "metadata": {},
     "output_type": "execute_result"
    },
    {
     "data": {
      "image/png": "[encoded data removed]",
      "text/plain": [
       "<Figure size 432x288 with 1 Axes>"
      ]
     },
     "metadata": {
      "needs_background": "light"
     },
     "output_type": "display_data"
    }
   ],
   "source": [
    "plot(SNR_array, nevents_day_list)\n",
    "xlabel(\"SNR\")\n",
    "ylabel(\"Events per day\")"
   ]
  },
  {
   "cell_type": "code",
   "execution_count": null,
   "metadata": {},
   "outputs": [],
   "source": []
  },
  {
   "cell_type": "code",
   "execution_count": null,
   "metadata": {},
   "outputs": [],
   "source": []
  }
 ],
 "metadata": {
  "kernelspec": {
   "display_name": "Python 3",
   "language": "python",
   "name": "python3"
  },
  "language_info": {
   "codemirror_mode": {
    "name": "ipython",
    "version": 3
   },
   "file_extension": ".py",
   "mimetype": "text/x-python",
   "name": "python",
   "nbconvert_exporter": "python",
   "pygments_lexer": "ipython3",
   "version": "3.7.6"
  }
 },
 "nbformat": 4,
 "nbformat_minor": 2
}
